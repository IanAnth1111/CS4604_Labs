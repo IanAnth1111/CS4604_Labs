{
 "cells": [
  {
   "cell_type": "markdown",
   "metadata": {},
   "source": [
    "## Objective\n",
    "Learn how to use a basic SELECT statement.\n",
    "\n",
    "## Lab\n",
    "A data set for the collection of cards for [Hearthstone](https://playhearthstone.com/en-us/),\n",
    "the popular online card game by Blizzard. This data set is freely available from [Kaggle](https://www.kaggle.com/jeradrose/hearthstone-cards)."
   ]
  },
  {
   "cell_type": "code",
   "execution_count": null,
   "metadata": {},
   "outputs": [],
   "source": [
    "import os\n",
    "username = \"cs4604\"\n",
    "# See host and password information in the Canvas\n",
    "password = os.environ['labpasswd']\n",
    "host = os.environ['labhost']\n",
    "%reload_ext sql\n",
    "%sql postgresql://$username:$password@$host/cslabs"
   ]
  },
  {
   "cell_type": "markdown",
   "metadata": {},
   "source": [
    "### SQL SELECT\n",
    "\n",
    "The SELECT statement is used to select data from a database.\n",
    "Basic syntax is \n",
    "\n",
    "```sql\n",
    "SELECT column1, column2, ...\n",
    "  FROM table_name;\n",
    "```\n",
    "\n",
    "Here, column1, column2, ... are the field names of the table you want to select data from. \n",
    "If you want to select all the fields available in the table, use the following syntax:\n",
    "\n",
    "```sql\n",
    "SELECT * FROM table_name;\n",
    "```\n",
    "\n",
    "The following SQL statement selects the \"type\" and \"name\" columns from the \"basic_cards\" table.\n",
    "**Try executing this query in the below cell.**\n",
    "\n",
    "```sql\n",
    "SELECT type, name FROM basic_cards;\n",
    "```"
   ]
  },
  {
   "cell_type": "code",
   "execution_count": null,
   "metadata": {},
   "outputs": [],
   "source": [
    "%sql \"Your query\""
   ]
  },
  {
   "cell_type": "markdown",
   "metadata": {},
   "source": [
    "The following SQL statement selects all the columns from the \"basic_cards\" table.\n",
    "**Try executing this query in the below cell.**\n",
    "\n",
    "```sql\n",
    "SELECT * FROM basic_cards;\n",
    "```"
   ]
  },
  {
   "cell_type": "code",
   "execution_count": null,
   "metadata": {},
   "outputs": [],
   "source": [
    "%sql \"Your query\""
   ]
  },
  {
   "cell_type": "markdown",
   "metadata": {},
   "source": [
    "### SELECT DISTINCT\n",
    "\n",
    "The SELECT DISTINCT statement is used to return only distinct (different) values.\n",
    "Inside a table, a column often contains many duplicate values; and sometimes you only want to list the different (distinct) values.\n",
    "The SELECT DISTINCT statement is used to return only distinct (different) values.\n",
    "\n",
    "The syntax is:\n",
    "\n",
    "```sql\n",
    "SELECT DISTINCT column1, colun2, ...\n",
    "  FROM table_name;\n",
    "```\n",
    "\n",
    "**Try this query:**\n",
    "\n",
    "```sql\n",
    "SELECT DISTINCT type FROM basic_cards;\n",
    "```\n"
   ]
  },
  {
   "cell_type": "code",
   "execution_count": null,
   "metadata": {},
   "outputs": [],
   "source": [
    "%sql \"Your query\""
   ]
  },
  {
   "cell_type": "markdown",
   "metadata": {},
   "source": [
    "### WHERE Clause\n",
    "\n",
    "The WHERE clause is used to filter records.\n",
    "The WHERE clause is used to extract only those records that fulfill a specified condition.\n",
    "\n",
    "The syntax is:\n",
    "\n",
    "```sql\n",
    "SELECT column1, column2, ...\n",
    "  FROM table_name\n",
    " WHERE boolean_condition;\n",
    "```\n",
    "**Try this query:**\n",
    "\n",
    "```sql\n",
    "SELECT name FROM basic_cards WHERE type = 'HERO';\n",
    "```"
   ]
  },
  {
   "cell_type": "code",
   "execution_count": null,
   "metadata": {},
   "outputs": [],
   "source": [
    "%sql \"Your query\""
   ]
  },
  {
   "cell_type": "markdown",
   "metadata": {},
   "source": [
    "We can also use other types of comparisons (note that numeric comparisons do not use quotes):\n",
    "\n",
    "```sql\n",
    "SELECT name, cost FROM basic_cards WHERE cost > 5;\n",
    "```"
   ]
  },
  {
   "cell_type": "code",
   "execution_count": null,
   "metadata": {},
   "outputs": [],
   "source": [
    "%sql \"Your query\""
   ]
  },
  {
   "cell_type": "markdown",
   "metadata": {},
   "source": [
    "All of the standard operators are valid: =, <> (or !=), >, <, >=, <=.\n",
    "These are additional (and very useful operators):\n",
    "\n",
    "| Operator | Description | Example |\n",
    "| -------- | ----------- | ------- |\n",
    "| BETWEEN | Between an inclusive range | WHERE x BETWEEN 3 AND 9 |\n",
    "| LIKE | Search for a pattern | WHERE x LIKE 'Smi%' |\n",
    "| IN | To specify multiple possible values for a column | WHERE x IN (3,5,7,9) |\n",
    "\n",
    "We can also apply boolean operators AND, OR and NOT.\n",
    "\n",
    "AND syntax is:\n",
    "\n",
    "```sql\n",
    "SELECT column1, column2, ...\n",
    "  FROM table_name\n",
    " WHERE condition1 AND condition2 AND condition3 ...;\n",
    "```\n",
    "\n",
    "OR syntax is:\n",
    "\n",
    "```sql\n",
    "SELECT column1, column2, ...\n",
    "  FROM table_name\n",
    " WHERE condition1 OR condition2 OR condition3 ...;\n",
    "```\n",
    "\n",
    "NOT syntax is:\n",
    "\n",
    "```sql\n",
    "SELECT column1, column2, ...\n",
    "  FROM table_name\n",
    " WHERE NOT condition;\n",
    "```\n",
    "\n",
    "As you would expect, you can combine the various logical operators to form complex boolean expressions.\n",
    "\n",
    "**Try these queries:**\n",
    "\n",
    "```sql\n",
    "SELECT name, cost FROM basic_cards WHERE cost < 5 AND player_class = 'DRUID';\n",
    "```\n",
    "\n",
    "```sql\n",
    "SELECT name, cost FROM basic_cards WHERE cost < 5 OR player_class = 'DRUID';\n",
    "```\n",
    "\n",
    "```sql\n",
    "SELECT name, player_class, cost FROM basic_cards WHERE cost < 5 OR player_class IN ('DRUID', 'HUNTER');\n",
    "```"
   ]
  },
  {
   "cell_type": "code",
   "execution_count": null,
   "metadata": {},
   "outputs": [],
   "source": [
    "%sql \"Your query\""
   ]
  },
  {
   "cell_type": "code",
   "execution_count": null,
   "metadata": {},
   "outputs": [],
   "source": [
    "%sql \"Your query\""
   ]
  },
  {
   "cell_type": "code",
   "execution_count": null,
   "metadata": {},
   "outputs": [],
   "source": [
    "%sql \"Your query\""
   ]
  },
  {
   "cell_type": "markdown",
   "metadata": {},
   "source": [
    "**Challenge question:**\n",
    "<p>The <code>People</code> table holds all people including their parents. Every people has an Id, and there is also a column for the parent Id.</p>\n",
    "\n",
    "| Id | Name  | Height | Parentid |\n",
    "|----|-------|--------|-----------|\n",
    "| 1  | Joe   | 193  | 3         |\n",
    "| 2  | Henry | 168  | 4         |\n",
    "| 3  | Sam   | 180  | NULL      |\n",
    "| 4  | Max   | 178  | NULL      |\n",
    "\n",
    "\n",
    "<p>Given the <code>People</code> table, write a SQL query that finds out People who is taller than their parents. For the above table, Joe is the only people who is taller than his parent.</p>\n",
    "\n",
    "\n",
    "| Name |\n",
    "|----------|\n",
    "| Joe      |\n"
   ]
  },
  {
   "cell_type": "code",
   "execution_count": null,
   "metadata": {},
   "outputs": [],
   "source": [
    "%sql \"Your answer 1\""
   ]
  },
  {
   "cell_type": "markdown",
   "metadata": {},
   "source": [
    "### Your turn\n",
    "\n",
    "Now it's your turn to apply what you've learned. \n",
    "1. Submit your answers 1 to Canvas `Lab 2 assignment`\n",
    "2. There is a larger table called **cards** in the database. Create two questions and submit them to Canvas `Lab 2 assignment`\n",
    "\n",
    "For example:\n",
    "\n",
    "**Question1:** How would you find the name, player class, and cost in the **cards** which that the cost is less than 5 or player class is either 'DRUID' or 'HUNTER'?\n",
    "\n",
    "**Answer1:** \n",
    "```sql\n",
    "SELECT name, player_class, cost FROM cards WHERE cost < 5 OR player_class IN ('DRUID', 'HUNTER');\n",
    "```\n",
    "\n",
    "Use what you find in the **cards** table and create these two questions. \n",
    "\n",
    "Question like **List all item in the cards table** would be too easy and boring. Surprise us with interesting questions! We are looking forward to seeing it!\n",
    "\n"
   ]
  }
 ],
 "metadata": {
  "kernelspec": {
   "display_name": "Python 3",
   "language": "python",
   "name": "python3"
  },
  "language_info": {
   "codemirror_mode": {
    "name": "ipython",
    "version": 3
   },
   "file_extension": ".py",
   "mimetype": "text/x-python",
   "name": "python",
   "nbconvert_exporter": "python",
   "pygments_lexer": "ipython3",
   "version": "3.7.7"
  }
 },
 "nbformat": 4,
 "nbformat_minor": 4
}