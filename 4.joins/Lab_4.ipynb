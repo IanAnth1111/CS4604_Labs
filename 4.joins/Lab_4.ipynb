{
 "cells": [
  {
   "cell_type": "markdown",
   "metadata": {},
   "source": [
    "## Objective\n",
    "Learn to join tables.\n",
    "\n",
    "## Lab\n",
    "A data set for the collection of cards for [Hearthstone](https://playhearthstone.com/en-us/),\n",
    "the popular online card game by Blizzard. This data set is freely available from [Kaggle](https://www.kaggle.com/jeradrose/hearthstone-cards)."
   ]
  },
  {
   "cell_type": "code",
   "execution_count": null,
   "metadata": {},
   "outputs": [],
   "source": [
    "import os\n",
    "username = \"cs4604\"\n",
    "# See host and password information in the Canvas\n",
    "password = os.environ['labpasswd']\n",
    "host = os.environ['labhost']\n",
    "%reload_ext sql\n",
    "%sql postgresql://$username:$password@$host/cslabs"
   ]
  },
  {
   "cell_type": "markdown",
   "metadata": {},
   "source": [
    "### JOINs\n",
    "\n",
    "A JOIN clause is used to combine rows from two or more tables, based on a related column between them.\n",
    "\n",
    "The query below will select the card name and \"dust cost\" (how much \"dust\" it costs to craft the card) for each card in basic_cards.\n",
    "It does this by matching each row in basic_cards with each row in dust_costs based on the card_id of each.\n",
    "\n",
    "```sql\n",
    " SELECT name, dust_costs.cost AS dust_cost\n",
    "  FROM basic_cards4 \n",
    " INNER JOIN dust_costs on basic_cards4.card_id = dust_costs.card_id\n",
    " WHERE dust_costs.action = 'CRAFTING_NORMAL';\n",
    "```"
   ]
  },
  {
   "cell_type": "code",
   "execution_count": null,
   "metadata": {},
   "outputs": [],
   "source": [
    "query = \"\"\"\n",
    "\n",
    "\"\"\"\n",
    "\n",
    "%sql $query"
   ]
  },
  {
   "cell_type": "markdown",
   "metadata": {},
   "source": [
    "Hint: Note that in the SELECT clause, we use an alias (_AS dust_cost_) for columns dust_costs.cost. This allows us to rename the column\n",
    "which improves the format of the resulting query. It also makes it easier to address the column in our Java (or other) code.\n",
    "\n",
    "This type of join is called an **INNER JOIN** or, more commonly, just **JOIN**. It returns records that have matching  values in both tables.\n",
    "Inner joins are most commonly used, but there are other types of joins that are also used.\n",
    "\n",
    "The types of joins are:\n",
    "* **(INNER) JOIN**: Returns records that have matching values in both tables\n",
    "\n",
    "![inner join](img_innerjoin.gif)\n",
    "\n",
    "* **LEFT (OUTER) JOIN**: Return all records from the left table, and the matched records from the right table\n",
    "\n",
    "![left outer join](img_leftjoin.gif)\n",
    "\n",
    "* **RIGHT (OUTER) JOIN**: Return all records from the right table, and the matched records from the left table\n",
    "\n",
    "![right outer join](img_rightjoin.gif)\n",
    "\n",
    "* **FULL (OUTER) JOIN**: Return all records when there is a match in either left or right table\n",
    "\n",
    "![full outer join](img_fulljoin.gif)\n",
    "\n",
    "#### INNER JOINS\n",
    "\n",
    "The INNER JOIN keyword selects records that have matching values in both tables.\n",
    "\n",
    "The syntax is:\n",
    "\n",
    "```sql\n",
    "SELECT column_name(s)\n",
    "  FROM table1\n",
    " INNER JOIN table2 ON table1.column_name = table2.column_name;\n",
    "```\n",
    "\n",
    "You can also join multiple tables. The query below joins basic_cards, dust_costs and mechanics to select\n",
    "the name, dust_cost and mechanic for each card.\n",
    "\n",
    "```\n",
    "SELECT name, dust_costs.cost AS dust_cost, mechanics.mechanic\n",
    "  FROM ((basic_cards4\n",
    " INNER JOIN dust_costs ON basic_cards4.card_id = dust_costs.card_id)\n",
    " INNER JOIN mechanics ON mechanics.card_id = basic_cards4.card_id);\n",
    "```"
   ]
  },
  {
   "cell_type": "code",
   "execution_count": null,
   "metadata": {},
   "outputs": [],
   "source": [
    "query = \"\"\"\n",
    "\n",
    "\"\"\"\n",
    "\n",
    "%sql $query"
   ]
  },
  {
   "cell_type": "markdown",
   "metadata": {},
   "source": [
    "#### LEFT JOIN\n",
    "\n",
    "The LEFT JOIN keyword returns all records from the left table (table1), \n",
    "and the matched records from the right table (table2). \n",
    "The result is NULL from the right side, if there is no match.\n",
    "\n",
    "The syntax is:\n",
    "\n",
    "```sql\n",
    "SELECT column_name(s)\n",
    "FROM table1\n",
    "LEFT JOIN table2 ON table1.column_name = table2.column_name;\n",
    "```\n",
    "\n",
    "The query below left joins dust_costs with basic_cards.\n",
    "\n",
    "```sql\n",
    "SELECT dust_costs.cost AS dust_cost, name \n",
    "  FROM dust_costs\n",
    "  LEFT JOIN basic_cards4 on dust_costs.card_id = basic_cards4.card_id;\n",
    "```\n",
    "\n",
    "**Note**: The LEFT JOIN keyword returns all records from the left table (dust_costs), even if there are no matches in the right table (basic_cards).\n"
   ]
  },
  {
   "cell_type": "code",
   "execution_count": null,
   "metadata": {},
   "outputs": [],
   "source": [
    "query = \"\"\"\n",
    "\n",
    "\"\"\"\n",
    "\n",
    "%sql $query"
   ]
  },
  {
   "cell_type": "markdown",
   "metadata": {},
   "source": [
    "#### RIGHT JOIN\n",
    "\n",
    "The RIGHT JOIN is equivalent to LEFT JOIN except that it returns all records from the right table (table2), and the matched records from the left table (table1). The result is NULL from the left side, when there is no match.\n",
    "\n",
    "```sql\n",
    "SELECT dust_costs.cost AS dust_cost, name \n",
    "  FROM dust_costs\n",
    "  RIGHT JOIN basic_cards4 on dust_costs.card_id = basic_cards4.card_id;\n",
    "```"
   ]
  },
  {
   "cell_type": "code",
   "execution_count": null,
   "metadata": {},
   "outputs": [],
   "source": [
    "query = \"\"\"\n",
    "\n",
    "\"\"\"\n",
    "\n",
    "%sql $query"
   ]
  },
  {
   "cell_type": "markdown",
   "metadata": {},
   "source": [
    "#### FULL OUTER JOIN\n",
    "\n",
    "The FULL OUTER JOIN keyword returns all records when there is a match in either left (table1) or right (table2) table records.\n",
    "\n",
    "The query below outer joins dust_costs with basic_cards. So every record from each table will be returned.\n",
    "If a record exists in dust_costs having a card_id with no match in basic_cards, then the name column will be NULL.\n",
    "If a record exists in basic_cards having a card_id with no match in dust_cards, then the dust_cost column will be NULL.\n",
    "\n",
    "```sql\n",
    "SELECT dust_costs.cost AS dust_cost, name \n",
    "  FROM dust_costs\n",
    "  FULL OUTER JOIN basic_cards4 on dust_costs.card_id = basic_cards4.card_id;\n",
    "```"
   ]
  },
  {
   "cell_type": "code",
   "execution_count": null,
   "metadata": {},
   "outputs": [],
   "source": [
    "query = \"\"\"\n",
    "\n",
    "\"\"\"\n",
    "\n",
    "%sql $query"
   ]
  },
  {
   "cell_type": "markdown",
   "metadata": {},
   "source": [
    "#### Finding missing rows\n",
    "\n",
    "Outer joins can be helpful in many circumstances. One problem they are \n",
    "especially suited for is in finding missing rows. \n",
    "The query below will find all rows in dust_cost where there is no corresponding row in basic_cards.\n",
    "\n",
    "```sql\n",
    "SELECT dust_costs.*\n",
    "  FROM dust_costs\n",
    "  LEFT JOIN basic_cards4 on dust_costs.card_id = basic_cards4.card_id\n",
    " WHERE basic_cards4.card_id IS NULL;\n",
    "```"
   ]
  },
  {
   "cell_type": "code",
   "execution_count": null,
   "metadata": {},
   "outputs": [],
   "source": [
    "query = \"\"\"\n",
    "\n",
    "\"\"\"\n",
    "\n",
    "%sql $query"
   ]
  },
  {
   "cell_type": "markdown",
   "metadata": {},
   "source": [
    "### Your turn\n",
    "\n",
    "Now it's your turn to apply what you've learned. See `Homework 3` in the Canvas."
   ]
  },
  {
   "cell_type": "code",
   "execution_count": null,
   "metadata": {},
   "outputs": [],
   "source": []
  }
 ],
 "metadata": {
  "kernelspec": {
   "display_name": "Python 3",
   "language": "python",
   "name": "python3"
  },
  "language_info": {
   "codemirror_mode": {
    "name": "ipython",
    "version": 3
   },
   "file_extension": ".py",
   "mimetype": "text/x-python",
   "name": "python",
   "nbconvert_exporter": "python",
   "pygments_lexer": "ipython3",
   "version": "3.7.7"
  }
 },
 "nbformat": 4,
 "nbformat_minor": 4
}