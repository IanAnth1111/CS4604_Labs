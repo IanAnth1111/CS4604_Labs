{
 "cells": [
  {
   "cell_type": "markdown",
   "metadata": {},
   "source": [
    "## Objective\n",
    "Learn more advanced SQL queries.\n",
    "\n",
    "## Lab\n",
    "A data set for the collection of cards for [Hearthstone](https://playhearthstone.com/en-us/),\n",
    "the popular online card game by Blizzard. This data set is freely available from [Kaggle](https://www.kaggle.com/jeradrose/hearthstone-cards)."
   ]
  },
  {
   "cell_type": "code",
   "execution_count": null,
   "metadata": {},
   "outputs": [],
   "source": [
    "import os\n",
    "username = \"cs4604\"\n",
    "# See host and password information in the Canvas\n",
    "password = os.environ['labpasswd']\n",
    "host = os.environ['labhost']\n",
    "%reload_ext sql\n",
    "%sql postgresql://$username:$password@$host/cslabs"
   ]
  },
  {
   "cell_type": "markdown",
   "metadata": {},
   "source": [
    "### ORDER BY\n",
    "\n",
    "The ORDER BY keyword is used to sort the result-set in ascending or descending order.\n",
    "\n",
    "The ORDER BY keyword sorts the records in ascending order by default. \n",
    "To sort the records in descending order, use the DESC keyword. (Ascending [ASC] is the default.)\n",
    "\n",
    "The syntax is:\n",
    "\n",
    "```sql\n",
    "SELECT column1, column2, ...\n",
    "  FROM table_name\n",
    " ORDER BY column1, column2, ... ASC|DESC;\n",
    "```\n",
    "\n",
    "**Try these queries:**\n",
    "\n",
    "```sql\n",
    "SELECT name FROM basic_cards WHERE type = 'HERO' ORDER BY name;\n",
    "```"
   ]
  },
  {
   "cell_type": "code",
   "execution_count": null,
   "metadata": {},
   "outputs": [],
   "source": [
    "%sql \"Your query\""
   ]
  },
  {
   "cell_type": "markdown",
   "metadata": {},
   "source": [
    "```sql\n",
    "SELECT name FROM basic_cards WHERE type = 'HERO' ORDER BY name DESC;\n",
    "```"
   ]
  },
  {
   "cell_type": "code",
   "execution_count": null,
   "metadata": {},
   "outputs": [],
   "source": [
    "%sql \"Your query\""
   ]
  },
  {
   "cell_type": "markdown",
   "metadata": {},
   "source": [
    "```sql\n",
    "SELECT cost, player_class, name FROM basic_cards ORDER BY player_class, cost DESC NULLS LAST;\n",
    "```"
   ]
  },
  {
   "cell_type": "code",
   "execution_count": null,
   "metadata": {},
   "outputs": [],
   "source": [
    "%sql \"Your query\""
   ]
  },
  {
   "cell_type": "markdown",
   "metadata": {},
   "source": [
    "Note on the last query we are ordering first by player_class and then by cost _descending_. \n",
    "Note also that we have specified \"NULLS LAST\". Null values are normally sorted first. \n",
    "By adding the \"NULLS LAST\" directive, we are telling SQL to put rows having a NULL value at the bottom of the list.\n",
    "\n",
    "### Aggregate functions\n",
    "\n",
    "There are several aggregate functions available in SQL. The exact list is dependent upon the RDBMS. But most will \n",
    "have the basic functions: min(), max(), count(), avg() and sum().\n",
    "\n",
    "**Try these queries:**\n",
    "\n",
    "```sql\n",
    "SELECT AVG(cost) FROM basic_cards;\n",
    "```"
   ]
  },
  {
   "cell_type": "code",
   "execution_count": null,
   "metadata": {},
   "outputs": [],
   "source": [
    "%sql \"Your query\""
   ]
  },
  {
   "cell_type": "markdown",
   "metadata": {},
   "source": [
    "```sql\n",
    "SELECT MAX(cost) FROM basic_cards WHERE type = 'MINION';\n",
    "```"
   ]
  },
  {
   "cell_type": "code",
   "execution_count": null,
   "metadata": {},
   "outputs": [],
   "source": [
    "%sql \"Your query\""
   ]
  },
  {
   "cell_type": "markdown",
   "metadata": {},
   "source": [
    "Note on the last query we are select the most expensive card having a type of \"MINION\"."
   ]
  },
  {
   "cell_type": "markdown",
   "metadata": {},
   "source": [
    "**Question1**: How would you find the cheapest card in basic_cards?"
   ]
  },
  {
   "cell_type": "code",
   "execution_count": null,
   "metadata": {},
   "outputs": [],
   "source": [
    "%sql \"Your query\""
   ]
  },
  {
   "cell_type": "markdown",
   "metadata": {},
   "source": [
    "**Question2**: How would you cound the total number of cards? The number of cards of type 'HERO'?"
   ]
  },
  {
   "cell_type": "code",
   "execution_count": null,
   "metadata": {},
   "outputs": [],
   "source": [
    "%sql \"Your query\""
   ]
  },
  {
   "cell_type": "markdown",
   "metadata": {},
   "source": [
    "### GROUP BY\n",
    "\n",
    "The GROUP BY statement is often used with aggregate functions (COUNT, MAX, MIN, SUM, AVG) to group the result-set by one or more columns.\n",
    "\n",
    "The syntax is:\n",
    "\n",
    "```sql\n",
    "SELECT column_name(s)\n",
    "  FROM table_name\n",
    " WHERE condition\n",
    " GROUP BY column_name(s)\n",
    " ORDER BY column_name(s);\n",
    "```\n",
    "\n",
    "To select the most expensive card of each type, you would issue a query like:\n",
    "\n",
    "```sql\n",
    "SELECT type, MAX(cost) FROM basic_cards GROUP BY type;\n",
    "```"
   ]
  },
  {
   "cell_type": "code",
   "execution_count": null,
   "metadata": {},
   "outputs": [],
   "source": [
    "%sql \"Your query\""
   ]
  },
  {
   "cell_type": "markdown",
   "metadata": {},
   "source": [
    "-- To order the results by type, add an ORDER BY clause\n",
    "```sql\n",
    "SELECT type, MAX(cost) FROM basic_cards GROUP BY type ORDER BY type;\n",
    "```"
   ]
  },
  {
   "cell_type": "code",
   "execution_count": null,
   "metadata": {},
   "outputs": [],
   "source": [
    "%sql \"Your query\""
   ]
  },
  {
   "cell_type": "markdown",
   "metadata": {},
   "source": [
    "-- You can also order by the aggregate function\n",
    "```sql\n",
    "SELECT type, MAX(cost) FROM basic_cards GROUP BY type ORDER BY MAX(cost) DESC NULLS LAST;\n",
    "```"
   ]
  },
  {
   "cell_type": "code",
   "execution_count": null,
   "metadata": {},
   "outputs": [],
   "source": [
    "%sql \"Your query\""
   ]
  },
  {
   "cell_type": "markdown",
   "metadata": {},
   "source": [
    "When grouping, every column in your SELECT clause that is NOT an aggregate function must be included in the GROUP BY clause.\n",
    "\n",
    "For example, try this:\n",
    "\n",
    "```sql\n",
    "SELECT name, type, MAX(cost) FROM basic_cards GROUP BY type;\n",
    "```"
   ]
  },
  {
   "cell_type": "code",
   "execution_count": null,
   "metadata": {},
   "outputs": [],
   "source": [
    "%sql \"Your query\""
   ]
  },
  {
   "cell_type": "markdown",
   "metadata": {},
   "source": [
    "You should have gotten an error stating:\n",
    "\n",
    "`ERROR:  column \"basic_cards.name\" must appear in the GROUP BY clause or be used in an aggregate function`\n",
    "\n",
    "### HAVING\n",
    "\n",
    "The HAVING clause was added to SQL because the WHERE keyword could not be used with aggregate functions.\n",
    "You can think of the having clause as a where clause for aggregates.\n",
    "\n",
    "The syntax is:\n",
    "\n",
    "```sql\n",
    "SELECT column_name(s)\n",
    "FROM table_name\n",
    "WHERE condition\n",
    "GROUP BY column_name(s)\n",
    "HAVING condition\n",
    "ORDER BY column_name(s);\n",
    "```\n",
    "\n",
    "This query will select the max cost for each player class if that max cost is greater than 5.\n",
    "\n",
    "```sql\n",
    "SELECT player_class, max(cost) FROM basic_cards GROUP BY player_class HAVING max(cost) > 5 ORDER BY max(cost) DESC;\n",
    "```\n"
   ]
  },
  {
   "cell_type": "code",
   "execution_count": null,
   "metadata": {},
   "outputs": [],
   "source": [
    "%sql \"Your query\""
   ]
  },
  {
   "cell_type": "markdown",
   "metadata": {},
   "source": [
    "**Practice questions:**\n",
    "\n",
    "Table `workactivity`\n",
    "\n",
    "|   Column    |  Type   | Modifiers |\n",
    "| -------- | ----------- | ------- |\n",
    "| worker_id   | integer | not null|\n",
    "| computer_id | integer | |\n",
    "| event_date  | date    | not null|\n",
    "| tasks       | integer | |\n",
    "\n",
    "`(worker_id, event_date)` is the PRIMARY KEY. \n",
    "\n",
    "This table shows the activities of workers and how many tasks they finished by the date. Each row is a record of a worker who logged in a computer and finished a number of tasks (it could be 0, no task was finished) on that date. Some sample records are listed below:\n",
    "\n",
    "```\n",
    " worker_id | computer_id | event_date | tasks \n",
    "-----------+-------------+------------+-------\n",
    "         1 |           2 | 2019-03-01 |     5\n",
    "         1 |           2 | 2019-05-02 |     3\n",
    "         2 |           3 | 2020-06-25 |     1\n",
    "         3 |           1 | 2019-03-02 |     0\n",
    "         3 |           4 | 2020-07-03 |     2\n",
    "         1 |           3 | 2020-08-02 |     4\n",
    "```\n",
    "\n",
    "* Question 1: Write an SQL query that reports the first login date for each worker.\n",
    "* Answer 1:"
   ]
  },
  {
   "cell_type": "code",
   "execution_count": null,
   "metadata": {},
   "outputs": [],
   "source": [
    "%sql \"Your query\""
   ]
  },
  {
   "cell_type": "markdown",
   "metadata": {},
   "source": [
    "Expected result:\n",
    "```\n",
    " worker_id | first_login \n",
    "-----------+-------------\n",
    "         1 | 2019-03-01\n",
    "         2 | 2020-06-25\n",
    "         3 | 2019-03-02\n",
    "```"
   ]
  },
  {
   "cell_type": "markdown",
   "metadata": {},
   "source": [
    "* Question 2: Write a SQL query that reports the computer that is first logged in for each worker.\n",
    "* Answer 2:"
   ]
  },
  {
   "cell_type": "code",
   "execution_count": null,
   "metadata": {},
   "outputs": [],
   "source": [
    "%sql \"Your query\""
   ]
  },
  {
   "cell_type": "markdown",
   "metadata": {},
   "source": [
    "Expected result:\n",
    "```\n",
    " worker_id | computer_id \n",
    "-----------+-------------\n",
    "         1 |           2\n",
    "         2 |           3\n",
    "         3 |           1\n",
    "```"
   ]
  },
  {
   "cell_type": "markdown",
   "metadata": {},
   "source": [
    "* Question 3: Write an SQL query that reports for each worker and date, how many tasks finished so far by the worker. That is, the total number of tasks finished by the worker until that date.\n",
    "* Answer 3: "
   ]
  },
  {
   "cell_type": "code",
   "execution_count": null,
   "metadata": {},
   "outputs": [],
   "source": [
    "%sql \"Your query\""
   ]
  },
  {
   "cell_type": "markdown",
   "metadata": {},
   "source": [
    "Expected result:\n",
    "```\n",
    " worker_id | event_date | tasks_finished_so_far \n",
    "-----------+------------+-----------------------\n",
    "         1 | 2019-03-01 |                     5\n",
    "         1 | 2019-05-02 |                     8\n",
    "         1 | 2020-08-02 |                    12\n",
    "         2 | 2020-06-25 |                     1\n",
    "         3 | 2019-03-02 |                     0\n",
    "         3 | 2020-07-03 |                     2\n",
    "```"
   ]
  },
  {
   "cell_type": "markdown",
   "metadata": {},
   "source": [
    "### Your turn\n",
    "\n",
    "Now it's your turn to apply what you've learned. \n",
    "1. Submit all your answers (1-3) to Canvas `Lab 3 assignment`"
   ]
  }
 ],
 "metadata": {
  "kernelspec": {
   "display_name": "Python 3",
   "language": "python",
   "name": "python3"
  },
  "language_info": {
   "codemirror_mode": {
    "name": "ipython",
    "version": 3
   },
   "file_extension": ".py",
   "mimetype": "text/x-python",
   "name": "python",
   "nbconvert_exporter": "python",
   "pygments_lexer": "ipython3",
   "version": "3.7.7"
  }
 },
 "nbformat": 4,
 "nbformat_minor": 4
}
